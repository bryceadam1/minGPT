{
 "cells": [
  {
   "cell_type": "code",
   "execution_count": 7,
   "metadata": {},
   "outputs": [],
   "source": [
    "import torch\n",
    "import torch.nn as nn\n",
    "import torch.nn.functional as F\n",
    "import torch.optim as optim\n",
    "\n",
    "import transformers"
   ]
  },
  {
   "cell_type": "code",
   "execution_count": 8,
   "metadata": {},
   "outputs": [
    {
     "name": "stdout",
     "output_type": "stream",
     "text": [
      "1000\n",
      "58\n",
      "<R> Coronary artery disease: diagnostic and prognostic models for reducing patient <extra_id_0>  accurate diagnostic <extra_id_1>  factor <extra_id_2>  management of <extra_id_3>  disease (CAD); thus, noninvasive cardiac imaging has <B> <extra_id_0>  risk.\n",
      "Early and <extra_id_1>  testing is a critical <extra_id_2>  in the detection and optimal <extra_id_3>  coronary artery\n"
     ]
    }
   ],
   "source": [
    "from dataset import JSONLDataset\n",
    "from ul2_dataset import UL2Dataset\n",
    "\n",
    "tokenizer = transformers.GPT2Tokenizer.from_pretrained('gpt2')\n",
    "tokenizer.pad_token = tokenizer.eos_token\n",
    "tokenizer.model_max_length = 64\n",
    "\n",
    "tokenizer.add_tokens(['<R>','<X>','<S>'], special_tokens=True)\n",
    "tokenizer.add_tokens([f'<extra_id_{i}>' for i in range(200)], special_tokens=True)\n",
    "tokenizer.add_tokens(['<B>','<E>'], special_tokens=True)\n",
    "\n",
    "dataset = UL2Dataset('data/proj2_data.jsonl', tokenizer)\n",
    "\n",
    "print(len(dataset))\n",
    "x, y = dataset[6]\n",
    "print(len(x))\n",
    "print(tokenizer.decode(x))"
   ]
  },
  {
   "cell_type": "code",
   "execution_count": 5,
   "metadata": {},
   "outputs": [
    {
     "data": {
      "text/plain": [
       "2"
      ]
     },
     "execution_count": 5,
     "metadata": {},
     "output_type": "execute_result"
    }
   ],
   "source": []
  },
  {
   "cell_type": "code",
   "execution_count": 8,
   "metadata": {},
   "outputs": [
    {
     "data": {
      "text/plain": [
       "tensor([[50257,  1406]])"
      ]
     },
     "execution_count": 8,
     "metadata": {},
     "output_type": "execute_result"
    }
   ],
   "source": [
    "tokenizer(\"<R> So\", return_tensors=\"pt\")[\"input_ids\"]"
   ]
  },
  {
   "cell_type": "code",
   "execution_count": 9,
   "metadata": {},
   "outputs": [
    {
     "name": "stdout",
     "output_type": "stream",
     "text": [
      "64\n",
      "48\n",
      "number of parameters: 2.51M\n",
      "running on device mps\n"
     ]
    }
   ],
   "source": [
    "from mingpt.model import GPT\n",
    "from mingpt.trainer import Trainer\n",
    "\n",
    "model_config = GPT.get_default_config()\n",
    "model_config.model_type = \"gpt-nano\"\n",
    "# model_config.vocab_size = tokenizer.vocab_size\n",
    "model_config.vocab_size = len(tokenizer)\n",
    "model_config.block_size = tokenizer.model_max_length\n",
    "model = GPT(model_config)\n",
    "\n",
    "trainer_config = Trainer.get_default_config()\n",
    "trainer_config.max_iters = 10\n",
    "trainer_config.device = \"mps\"\n",
    "trainer_config.load_checkpoint = True\n",
    "trainer_config.checkpoint_dir = \"checkpoints\"\n",
    "trainer_config.checkpoint_iters = 1\n",
    "trainer = Trainer(trainer_config, model, dataset)\n",
    "\n",
    "def print_loss(trainer):\n",
    "    if trainer.iter_num % 2 == 0:\n",
    "        print(f\"Batch: {trainer.iter_num}, Loss: {trainer.loss.item()}\")\n",
    "\n",
    "trainer.add_callback(\"on_batch_end\", print_loss)"
   ]
  },
  {
   "cell_type": "code",
   "execution_count": 10,
   "metadata": {},
   "outputs": [
    {
     "name": "stdout",
     "output_type": "stream",
     "text": [
      "Batch: 0, Loss: 10.834650039672852\n",
      "Batch: 2, Loss: 10.808938980102539\n",
      "Batch: 4, Loss: 10.776081085205078\n",
      "Batch: 6, Loss: 10.738039016723633\n",
      "Batch: 8, Loss: 10.701078414916992\n"
     ]
    }
   ],
   "source": [
    "trainer.run()"
   ]
  },
  {
   "cell_type": "code",
   "execution_count": null,
   "metadata": {},
   "outputs": [],
   "source": []
  }
 ],
 "metadata": {
  "kernelspec": {
   "display_name": "venv",
   "language": "python",
   "name": "python3"
  },
  "language_info": {
   "codemirror_mode": {
    "name": "ipython",
    "version": 3
   },
   "file_extension": ".py",
   "mimetype": "text/x-python",
   "name": "python",
   "nbconvert_exporter": "python",
   "pygments_lexer": "ipython3",
   "version": "3.11.5"
  }
 },
 "nbformat": 4,
 "nbformat_minor": 2
}
