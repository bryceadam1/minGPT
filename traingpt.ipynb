{
 "cells": [
  {
   "cell_type": "code",
   "execution_count": 1,
   "metadata": {},
   "outputs": [],
   "source": [
    "import torch\n",
    "import torch.nn as nn\n",
    "import torch.nn.functional as F\n",
    "import torch.optim as optim\n",
    "\n",
    "import transformers"
   ]
  },
  {
   "cell_type": "code",
   "execution_count": 3,
   "metadata": {},
   "outputs": [
    {
     "name": "stdout",
     "output_type": "stream",
     "text": [
      "1685162\n",
      "(tensor([   49, 38165,     3,   318,  4795,   286,   720,    49, 35307,   198,\n",
      "          198,  9690,   284, 20607,  2611,  3467,    58, 10671,  2611,    15,\n",
      "           59,    60,  1978,   351, 35125,   356,   423,   326, 32382,    70,\n",
      "            6,     7,    74,     8, 10779,    59, 30300,     7,    32, 23330,\n",
      "           74,    92, 19415,   293,   532,    59,  9464,   685,    34, 36796,\n",
      "           12,    16, 32239,    11,    70,     7,    74, 19415,  3506,    60,\n",
      "           61, 31478, 31944,   352]), tensor([38165,     3,   318,  4795,   286,   720,    49, 35307,   198,   198,\n",
      "         9690,   284, 20607,  2611,  3467,    58, 10671,  2611,    15,    59,\n",
      "           60,  1978,   351, 35125,   356,   423,   326, 32382,    70,     6,\n",
      "            7,    74,     8, 10779,    59, 30300,     7,    32, 23330,    74,\n",
      "           92, 19415,   293,   532,    59,  9464,   685,    34, 36796,    12,\n",
      "           16, 32239,    11,    70,     7,    74, 19415,  3506,    60,    61,\n",
      "        31478, 31944,   352,    90]))\n"
     ]
    }
   ],
   "source": [
    "from dataset import JSONLDataset\n",
    "\n",
    "tokenizer = transformers.GPT2Tokenizer.from_pretrained('gpt2')\n",
    "tokenizer.pad_token = tokenizer.eos_token\n",
    "tokenizer.model_max_length = 64\n",
    "dataset = JSONLDataset('data/proj2_data.jsonl', tokenizer)\n",
    "\n",
    "print(len(dataset))\n",
    "print(dataset[60000])"
   ]
  },
  {
   "cell_type": "code",
   "execution_count": 6,
   "metadata": {},
   "outputs": [
    {
     "name": "stdout",
     "output_type": "stream",
     "text": [
      "number of parameters: 2.50M\n",
      "running on device mps\n"
     ]
    }
   ],
   "source": [
    "from mingpt.model import GPT\n",
    "from mingpt.trainer import Trainer\n",
    "\n",
    "model_config = GPT.get_default_config()\n",
    "model_config.model_type = \"gpt-nano\"\n",
    "model_config.vocab_size = tokenizer.vocab_size\n",
    "model_config.block_size = tokenizer.model_max_length\n",
    "model = GPT(model_config)\n",
    "\n",
    "trainer_config = Trainer.get_default_config()\n",
    "trainer_config.max_iters = 10\n",
    "trainer_config.device = \"mps\"\n",
    "trainer_config.load_checkpoint = True\n",
    "trainer_config.checkpoint_dir = \"checkpoints\"\n",
    "trainer_config.checkpoint_iters = 1\n",
    "trainer = Trainer(trainer_config, model, dataset)\n",
    "\n",
    "def print_loss(trainer):\n",
    "    if trainer.iter_num % 2 == 0:\n",
    "        print(f\"Batch: {trainer.iter_num}, Loss: {trainer.loss.item()}\")\n",
    "\n",
    "trainer.add_callback(\"on_batch_end\", print_loss)"
   ]
  },
  {
   "cell_type": "code",
   "execution_count": 8,
   "metadata": {},
   "outputs": [
    {
     "name": "stdout",
     "output_type": "stream",
     "text": [
      "Batch: 0, Loss: 10.463829040527344\n",
      "Batch: 2, Loss: 10.388639450073242\n",
      "Batch: 4, Loss: 10.387161254882812\n",
      "Batch: 6, Loss: 10.351572036743164\n",
      "Batch: 8, Loss: 10.331005096435547\n"
     ]
    }
   ],
   "source": [
    "trainer.run()"
   ]
  },
  {
   "cell_type": "code",
   "execution_count": null,
   "metadata": {},
   "outputs": [],
   "source": []
  }
 ],
 "metadata": {
  "kernelspec": {
   "display_name": "venv",
   "language": "python",
   "name": "python3"
  },
  "language_info": {
   "codemirror_mode": {
    "name": "ipython",
    "version": 3
   },
   "file_extension": ".py",
   "mimetype": "text/x-python",
   "name": "python",
   "nbconvert_exporter": "python",
   "pygments_lexer": "ipython3",
   "version": "3.11.5"
  }
 },
 "nbformat": 4,
 "nbformat_minor": 2
}
